{
  "nbformat": 4,
  "nbformat_minor": 0,
  "metadata": {
    "colab": {
      "name": "python(2)",
      "provenance": [],
      "collapsed_sections": [],
      "toc_visible": true
    },
    "kernelspec": {
      "name": "python3",
      "display_name": "Python 3"
    },
    "language_info": {
      "name": "python"
    }
  },
  "cells": [
    {
      "cell_type": "markdown",
      "metadata": {
        "id": "qHVdnWLSUZva"
      },
      "source": [
        "## Tuple(元祖)\n",
        "tuple(元祖)可以視為不可改變的(list)。tuple跟list很像，但是不能新增或刪除或者更新tuple元素。  \n",
        "tuple比起list的好處:\n",
        "* 佔用空間少\n",
        "* 可以當作dictionary(字典)的key\n",
        "* 具名tuple當作物件替代\n",
        "* 當作函式的引數"
      ]
    },
    {
      "cell_type": "code",
      "metadata": {
        "colab": {
          "base_uri": "https://localhost:8080/"
        },
        "id": "ghV5tJKmUQao",
        "outputId": "485dcf3d-03fa-489a-f80c-13e5642cdd13"
      },
      "source": [
        "a_list=['python','js','C#']\n",
        "a_tuple=tuple(a_list)\n",
        "b_tuple=('python','js','C#')\n",
        "print(a_tuple)\n",
        "print(b_tuple)"
      ],
      "execution_count": null,
      "outputs": [
        {
          "output_type": "stream",
          "text": [
            "('python', 'js', 'C#')\n",
            "('python', 'js', 'C#')\n"
          ],
          "name": "stdout"
        }
      ]
    },
    {
      "cell_type": "markdown",
      "metadata": {
        "id": "8hnv6ZVdeJ65"
      },
      "source": [
        "##Dictionary-dict(字典)\n",
        "###dict為帶有鍵值(key)的串列\n",
        "* 表示方法為{ }"
      ]
    },
    {
      "cell_type": "code",
      "metadata": {
        "colab": {
          "base_uri": "https://localhost:8080/"
        },
        "id": "TyyLPPs1e0S_",
        "outputId": "9d218313-0173-4d10-c904-32fd39e15260"
      },
      "source": [
        "languaes={}\n",
        "languages={'name':'python','version':'3.7'}\n",
        "a_list=['pyhon','3.7']\n",
        "print(a_list[0])\n",
        "print(a_list[1])\n",
        "a_dict={0:'python',1:'3.7'}\n",
        "print(a_dict)\n",
        "print(a_dict[0])#dict就是索引值可以改變list"
      ],
      "execution_count": null,
      "outputs": [
        {
          "output_type": "stream",
          "text": [
            "pyhon\n",
            "3.7\n",
            "{0: 'python', 1: '3.7'}\n",
            "python\n"
          ],
          "name": "stdout"
        }
      ]
    },
    {
      "cell_type": "code",
      "metadata": {
        "colab": {
          "base_uri": "https://localhost:8080/"
        },
        "id": "yEkEPIrxgn-v",
        "outputId": "c2bf101f-4eaa-461c-8b25-29c67d5a3866"
      },
      "source": [
        "languages={'name':'python','version':'3.7'}\n",
        "print(languages['name'])\n",
        "print(languages)\n",
        "print(languages.keys()) #返回一個字典裡所有的鍵\n",
        "print(languages.values())#返回字典中的所有的值\n",
        "print(languages.items()) #返回字典中所有(鍵,值)\n",
        "print('name' in languages)"
      ],
      "execution_count": null,
      "outputs": [
        {
          "output_type": "stream",
          "text": [
            "python\n",
            "{'name': 'python', 'version': '3.7'}\n",
            "dict_keys(['name', 'version'])\n",
            "dict_values(['python', '3.7'])\n",
            "dict_items([('name', 'python'), ('version', '3.7')])\n",
            "True\n"
          ],
          "name": "stdout"
        }
      ]
    },
    {
      "cell_type": "code",
      "metadata": {
        "colab": {
          "base_uri": "https://localhost:8080/"
        },
        "id": "nObi_xbHkRNX",
        "outputId": "3af76198-7be0-401a-d78e-2e17645f809c"
      },
      "source": [
        "import random #亂數\n",
        "dice=random.randint(1,6)\n",
        "print('擲出骰子點數')\n",
        "if dice==1:\n",
        "  print('一點')\n",
        "elif dice==2:\n",
        "  print('二點')\n",
        "elif dice==3:\n",
        "  print('三點')\n",
        "elif dice==4:\n",
        "  print('四點')\n",
        "elif dice==5:\n",
        "  print('五點')\n",
        "else:\n",
        "  print('六點')"
      ],
      "execution_count": null,
      "outputs": [
        {
          "output_type": "stream",
          "text": [
            "擲出骰子點數\n",
            "六點\n"
          ],
          "name": "stdout"
        }
      ]
    },
    {
      "cell_type": "code",
      "metadata": {
        "colab": {
          "base_uri": "https://localhost:8080/"
        },
        "id": "md4ygEuplTh2",
        "outputId": "7d22ca18-1d97-42fa-c268-a1cafab802b1"
      },
      "source": [
        "import random\n",
        "dice_points={1:'一點',2:'二點',3:'三點',4:'四點',5:'五點',6:'六點'}\n",
        "dice=random.randint(1,6)\n",
        "print('擲出骰子點數',dice_points[dice])"
      ],
      "execution_count": null,
      "outputs": [
        {
          "output_type": "stream",
          "text": [
            "擲出骰子點數 五點\n"
          ],
          "name": "stdout"
        }
      ]
    },
    {
      "cell_type": "markdown",
      "metadata": {
        "id": "TzydPpnhpGdN"
      },
      "source": [
        "#numpy套件(numeric python)\n",
        "##為甚麼需要numpy?\n",
        "* numpy由c撰寫，速度快10~1000倍以上\n",
        "* numpy儲存結果較正確，python數字儲存不正確\n",
        "* numpy節省記憶體儲存時間\n",
        "* numpy的向量(矩陣計算)速度快\n",
        "* numpy的取值方便"
      ]
    },
    {
      "cell_type": "code",
      "metadata": {
        "colab": {
          "base_uri": "https://localhost:8080/"
        },
        "id": "QX8GEuv5qaPO",
        "outputId": "379e9c05-88c2-49b7-cfe4-e42fdef2042c"
      },
      "source": [
        "a_list=[1,2,3,4,5]\n",
        "print(a_list*3)"
      ],
      "execution_count": null,
      "outputs": [
        {
          "output_type": "stream",
          "text": [
            "[1, 2, 3, 4, 5, 1, 2, 3, 4, 5, 1, 2, 3, 4, 5]\n"
          ],
          "name": "stdout"
        }
      ]
    },
    {
      "cell_type": "code",
      "metadata": {
        "colab": {
          "base_uri": "https://localhost:8080/"
        },
        "id": "Jqwv_n_Ys8aL",
        "outputId": "ea94d48f-c260-440e-d7e0-f93873bb008a"
      },
      "source": [
        "#numpy套件的ndarray型態，提供element-wise的操作\n",
        "import numpy as np\n",
        "a=np.array([1,2,3,4,5])#np.array從串列變成numpy對話框\n",
        "print(a*3)"
      ],
      "execution_count": null,
      "outputs": [
        {
          "output_type": "stream",
          "text": [
            "[ 3  6  9 12 15]\n"
          ],
          "name": "stdout"
        }
      ]
    },
    {
      "cell_type": "markdown",
      "metadata": {
        "id": "XgkvemQ-gZC0"
      },
      "source": [
        "array規定每一個元素都必須有相同的資料型態，它們在記憶體上的儲存位置會完全排在一起，因此array的存取速度會比list快非常多"
      ]
    },
    {
      "cell_type": "code",
      "metadata": {
        "colab": {
          "base_uri": "https://localhost:8080/"
        },
        "id": "dTQNV5-ZuffW",
        "outputId": "90856bb0-2bd8-484f-e36a-84ed446f5df6"
      },
      "source": [
        "a=np.array([1,2,3,4,5])\n",
        "print(type(a))\n",
        "print(a.shape) #ndarray的形狀\n",
        "print(a.dtype) #資料的型態\n",
        "print(a.ndim) #維度"
      ],
      "execution_count": null,
      "outputs": [
        {
          "output_type": "stream",
          "text": [
            "<class 'numpy.ndarray'>\n",
            "(5,)\n",
            "int64\n",
            "1\n"
          ],
          "name": "stdout"
        }
      ]
    },
    {
      "cell_type": "code",
      "metadata": {
        "colab": {
          "base_uri": "https://localhost:8080/"
        },
        "id": "ttFgNYbSg_6h",
        "outputId": "22a7a6d6-6440-4c85-cdc0-44e1a48ed2a2"
      },
      "source": [
        "import numpy as np\n",
        "z=np.zeros(6)\n",
        "print(z)\n",
        "print(np.empty((2,3,4))) #創建一個沒有任何具體值的ndarray數組\n",
        "print(np.arange(10)) #創造numpy的陣列"
      ],
      "execution_count": null,
      "outputs": [
        {
          "output_type": "stream",
          "text": [
            "[0. 0. 0. 0. 0. 0.]\n",
            "[[[4.66272409e-310 0.00000000e+000 0.00000000e+000 0.00000000e+000]\n",
            "  [0.00000000e+000 0.00000000e+000 0.00000000e+000 0.00000000e+000]\n",
            "  [0.00000000e+000 0.00000000e+000 0.00000000e+000 0.00000000e+000]]\n",
            "\n",
            " [[0.00000000e+000 0.00000000e+000 0.00000000e+000 0.00000000e+000]\n",
            "  [0.00000000e+000 0.00000000e+000 0.00000000e+000 0.00000000e+000]\n",
            "  [0.00000000e+000 0.00000000e+000 0.00000000e+000 0.00000000e+000]]]\n",
            "[0 1 2 3 4 5 6 7 8 9]\n"
          ],
          "name": "stdout"
        }
      ]
    },
    {
      "cell_type": "code",
      "metadata": {
        "colab": {
          "base_uri": "https://localhost:8080/"
        },
        "id": "CH1E_fLthZIb",
        "outputId": "ba421b76-ead9-4150-963e-559c4c83a006"
      },
      "source": [
        "my_array=np.arange(10)\n",
        "print(my_array)\n",
        "print(my_array[0])\n",
        "print(my_array[0:5]) #0~4"
      ],
      "execution_count": null,
      "outputs": [
        {
          "output_type": "stream",
          "text": [
            "[0 1 2 3 4 5 6 7 8 9]\n",
            "0\n",
            "[0 1 2 3 4]\n"
          ],
          "name": "stdout"
        }
      ]
    },
    {
      "cell_type": "markdown",
      "metadata": {
        "id": "tI7NS0YUnssh"
      },
      "source": [
        "# 2維資料取直"
      ]
    },
    {
      "cell_type": "code",
      "metadata": {
        "colab": {
          "base_uri": "https://localhost:8080/"
        },
        "id": "whPTBsqTlo9b",
        "outputId": "ed8d7ef9-67cf-47ea-d9df-4e774c1c81ec"
      },
      "source": [
        "my_2d_array=np.array([np.arange(0,5),np.arange(5,10)])\n",
        "print(my_2d_array)\n",
        "print(my_2d_array[1,:])\n",
        "print(my_2d_array[:,1])\n",
        "print(my_2d_array[1,1])"
      ],
      "execution_count": null,
      "outputs": [
        {
          "output_type": "stream",
          "text": [
            "[[0 1 2 3 4]\n",
            " [5 6 7 8 9]]\n",
            "[5 6 7 8 9]\n",
            "[1 6]\n",
            "6\n"
          ],
          "name": "stdout"
        }
      ]
    },
    {
      "cell_type": "code",
      "metadata": {
        "colab": {
          "base_uri": "https://localhost:8080/"
        },
        "id": "lHCEmehttgZP",
        "outputId": "4ea249a5-a6b3-4484-d20b-8d1e269ed2a1"
      },
      "source": [
        "my_array=np.arange(0,10) \n",
        "print(my_array)\n",
        "print(my_array.shape)\n",
        "my_2d_array=my_array.reshape(2,5) #reshape改變陣列形狀 (numpy裡)\n",
        "print(my_2d_array)\n",
        "print((np.arange(0,100).reshape(10,10)))"
      ],
      "execution_count": null,
      "outputs": [
        {
          "output_type": "stream",
          "text": [
            "[0 1 2 3 4 5 6 7 8 9]\n",
            "(10,)\n",
            "[[0 1 2 3 4]\n",
            " [5 6 7 8 9]]\n",
            "[[ 0  1  2  3  4  5  6  7  8  9]\n",
            " [10 11 12 13 14 15 16 17 18 19]\n",
            " [20 21 22 23 24 25 26 27 28 29]\n",
            " [30 31 32 33 34 35 36 37 38 39]\n",
            " [40 41 42 43 44 45 46 47 48 49]\n",
            " [50 51 52 53 54 55 56 57 58 59]\n",
            " [60 61 62 63 64 65 66 67 68 69]\n",
            " [70 71 72 73 74 75 76 77 78 79]\n",
            " [80 81 82 83 84 85 86 87 88 89]\n",
            " [90 91 92 93 94 95 96 97 98 99]]\n"
          ],
          "name": "stdout"
        }
      ]
    },
    {
      "cell_type": "markdown",
      "metadata": {
        "id": "avyN6c-dwCkN"
      },
      "source": [
        "# numpy的空值nan"
      ]
    },
    {
      "cell_type": "code",
      "metadata": {
        "colab": {
          "base_uri": "https://localhost:8080/"
        },
        "id": "Zie-lMx7u9pe",
        "outputId": "6658f372-5a1c-40be-9b0b-b891e66eca01"
      },
      "source": [
        "b=np.array([56,8,19,14,np.nan]) \n",
        "print(b)"
      ],
      "execution_count": null,
      "outputs": [
        {
          "output_type": "stream",
          "text": [
            "[56.  8. 19. 14. nan]\n"
          ],
          "name": "stdout"
        }
      ]
    },
    {
      "cell_type": "markdown",
      "metadata": {
        "id": "lQTRWUppxMtW"
      },
      "source": [
        "#函式(數)\n",
        "##傳統的寫法"
      ]
    },
    {
      "cell_type": "code",
      "metadata": {
        "colab": {
          "base_uri": "https://localhost:8080/"
        },
        "id": "d7V0ux6SyV5c",
        "outputId": "53f9b652-14f8-4096-f773-fd0296eda80b"
      },
      "source": [
        "import math\n",
        "radius=eval(input('請輸入圓的半徑:')) #把輸入的字串變成數學計算型態\n",
        "print('圓的面積為:',radius*radius*math.pi)"
      ],
      "execution_count": null,
      "outputs": [
        {
          "output_type": "stream",
          "text": [
            "請輸入圓的半徑:10\n",
            "圓的面積為: 314.1592653589793\n"
          ],
          "name": "stdout"
        }
      ]
    },
    {
      "cell_type": "markdown",
      "metadata": {
        "id": "7I0vNoTg1R_K"
      },
      "source": [
        "#面積計算涵式"
      ]
    },
    {
      "cell_type": "code",
      "metadata": {
        "colab": {
          "base_uri": "https://localhost:8080/"
        },
        "id": "5g3oolAg1Roj",
        "outputId": "01dfdf61-4063-421e-9f69-588abcf20abb"
      },
      "source": [
        "import math\n",
        "def circle_area(radius): #def定義函式\n",
        "  area=radius*radius*math.pi\n",
        "  return area\n",
        "print(circle_area(10))"
      ],
      "execution_count": 1,
      "outputs": [
        {
          "output_type": "stream",
          "text": [
            "314.1592653589793\n"
          ],
          "name": "stdout"
        }
      ]
    },
    {
      "cell_type": "markdown",
      "metadata": {
        "id": "vJs9bhDcYeFj"
      },
      "source": [
        "#Chap 6\n",
        "##os套件:用來處理文件與目錄，與檔案相關操作"
      ]
    },
    {
      "cell_type": "code",
      "metadata": {
        "colab": {
          "base_uri": "https://localhost:8080/"
        },
        "id": "ob1Yd6QAYxyq",
        "outputId": "d977e4b2-f404-401c-9c70-82eaad16c3cc"
      },
      "source": [
        "import os\n",
        "print(os.getcwd()) #顯示目前所在的工作目標"
      ],
      "execution_count": null,
      "outputs": [
        {
          "output_type": "stream",
          "text": [
            "/content\n"
          ],
          "name": "stdout"
        }
      ]
    },
    {
      "cell_type": "code",
      "metadata": {
        "colab": {
          "base_uri": "https://localhost:8080/"
        },
        "id": "C7enf6M7Zup7",
        "outputId": "1b29dc36-3542-48e3-a9ca-fcc98259dd14"
      },
      "source": [
        "#顯示目錄下的檔案\n",
        "os.listdir('.')"
      ],
      "execution_count": null,
      "outputs": [
        {
          "output_type": "execute_result",
          "data": {
            "text/plain": [
              "['.config', 'sample_data']"
            ]
          },
          "metadata": {
            "tags": []
          },
          "execution_count": 2
        }
      ]
    },
    {
      "cell_type": "code",
      "metadata": {
        "colab": {
          "base_uri": "https://localhost:8080/"
        },
        "id": "_PGKhEpSanIb",
        "outputId": "19c3669a-aaf2-4ea8-9901-a55860160047"
      },
      "source": [
        "#新增目錄\n",
        "os.makedirs('test')\n",
        "os.listdir('.')"
      ],
      "execution_count": null,
      "outputs": [
        {
          "output_type": "execute_result",
          "data": {
            "text/plain": [
              "['.config', 'test', 'sample_data']"
            ]
          },
          "metadata": {
            "tags": []
          },
          "execution_count": 7
        }
      ]
    },
    {
      "cell_type": "code",
      "metadata": {
        "colab": {
          "base_uri": "https://localhost:8080/"
        },
        "id": "ywYKfRZ-bcAk",
        "outputId": "19fad6ac-1319-4146-fd41-7b44cc1aabc3"
      },
      "source": [
        "#移除目錄\n",
        "os.rmdir('test')\n",
        "os.listdir('.')"
      ],
      "execution_count": null,
      "outputs": [
        {
          "output_type": "execute_result",
          "data": {
            "text/plain": [
              "['.config', 'sample_data']"
            ]
          },
          "metadata": {
            "tags": []
          },
          "execution_count": 8
        }
      ]
    },
    {
      "cell_type": "markdown",
      "metadata": {
        "id": "T2uyx_HVcuk9"
      },
      "source": [
        "#檔案處理\n",
        "os套件有自己的檔案處理命令，而比較常用的是python內建的open  \n",
        "* w=可寫(預設建立檔案)若檔案存在則會清除舊檔案\n",
        "* w+=可寫可讀(預設建立檔案)若檔案存在則會清除除舊檔案\n",
        "* r=可讀\n",
        "* r+=可讀可寫 但寫入資料指向開頭\n",
        "* a=可寫不能讀 寫入資料指向尾端\n",
        "* a+=可寫可讀 寫入資料指向尾端\n",
        "* b=轉為2進為文件\n",
        "* ab+=2進為文件的讀寫 寫入資料指向尾端"
      ]
    },
    {
      "cell_type": "markdown",
      "metadata": {
        "id": "WJ2puuwymRDz"
      },
      "source": [
        "##新增檔案"
      ]
    },
    {
      "cell_type": "code",
      "metadata": {
        "id": "xuBEFNhukiBk"
      },
      "source": [
        "a=open('a.txt','w')#新增檔案\n",
        "a.write('This is a test1 ')\n",
        "a.write('This is a test2\\n')\n",
        "a.write('This is a test13\\n')\n",
        "a.close()#關閉檔案"
      ],
      "execution_count": null,
      "outputs": []
    },
    {
      "cell_type": "markdown",
      "metadata": {
        "id": "gpK0-aPnnC9z"
      },
      "source": [
        "##檢查檔案是否存在"
      ]
    },
    {
      "cell_type": "code",
      "metadata": {
        "colab": {
          "base_uri": "https://localhost:8080/"
        },
        "id": "KHEc3MQenCEr",
        "outputId": "29a2b124-ce27-4940-dcb5-5d24e972500d"
      },
      "source": [
        "os.path.isfile('a.txt')"
      ],
      "execution_count": null,
      "outputs": [
        {
          "output_type": "execute_result",
          "data": {
            "text/plain": [
              "True"
            ]
          },
          "metadata": {
            "tags": []
          },
          "execution_count": 10
        }
      ]
    },
    {
      "cell_type": "markdown",
      "metadata": {
        "id": "nhEYKt9ro3gD"
      },
      "source": [
        "##讀取檔案"
      ]
    },
    {
      "cell_type": "code",
      "metadata": {
        "colab": {
          "base_uri": "https://localhost:8080/"
        },
        "id": "FdwAuiEQo7Wq",
        "outputId": "bf5350a6-f125-4752-be43-f87b508186c0"
      },
      "source": [
        "a=open('a.txt','r')\n",
        "print(a.readline())\n",
        "print(a.readline())\n",
        "print(a.readline()) #多餘的命令，檔案只有2行\n",
        "a.close()"
      ],
      "execution_count": null,
      "outputs": [
        {
          "output_type": "stream",
          "text": [
            "This is a test1 This is a test2\n",
            "\n",
            "This is a test13\n",
            "\n",
            "\n"
          ],
          "name": "stdout"
        }
      ]
    },
    {
      "cell_type": "code",
      "metadata": {
        "colab": {
          "base_uri": "https://localhost:8080/"
        },
        "id": "sCLhFPeTp9li",
        "outputId": "4ac4a059-f567-403d-9141-e4ab48c045a8"
      },
      "source": [
        "a=open('a.txt','r')\n",
        "print(a.readlines()) #一次讀取多行，與a.read()命令相同\n",
        "a.close()"
      ],
      "execution_count": null,
      "outputs": [
        {
          "output_type": "stream",
          "text": [
            "['This is a test1 This is a test2\\n', 'This is a test13\\n']\n"
          ],
          "name": "stdout"
        }
      ]
    },
    {
      "cell_type": "code",
      "metadata": {
        "colab": {
          "base_uri": "https://localhost:8080/"
        },
        "id": "wLnmnOGZq30x",
        "outputId": "badd3698-8907-4911-cefc-8dd43a842667"
      },
      "source": [
        "#加上檔案是否存在的判斷\n",
        "if os.path.isfile('a.txt'):\n",
        "  a=open('a.txt','r')\n",
        "  print(a.readlines())\n",
        "  a.close()\n",
        "else:\n",
        "  print('檔案不存在')"
      ],
      "execution_count": null,
      "outputs": [
        {
          "output_type": "stream",
          "text": [
            "['This is a test1 This is a test2\\n', 'This is a test13\\n']\n"
          ],
          "name": "stdout"
        }
      ]
    },
    {
      "cell_type": "markdown",
      "metadata": {
        "id": "D5XbYv4DvPhr"
      },
      "source": [
        "##split"
      ]
    },
    {
      "cell_type": "code",
      "metadata": {
        "colab": {
          "base_uri": "https://localhost:8080/"
        },
        "id": "XWSo2T7dvRzR",
        "outputId": "32619b1c-520d-42b2-fde1-c87463b27882"
      },
      "source": [
        "if os.path.isfile('a.txt'):\n",
        "  a=open('a.txt','r')\n",
        "  for line in a: #全部行\n",
        "    fields=line.split(' ') #以空白切割欄位\n",
        "    print(fields)\n",
        "  a.close()\n",
        "else:\n",
        "  print('檔案不存在')"
      ],
      "execution_count": null,
      "outputs": [
        {
          "output_type": "stream",
          "text": [
            "['This', 'is', 'a', 'test1', 'This', 'is', 'a', 'test2\\n']\n",
            "['This', 'is', 'a', 'test13\\n']\n"
          ],
          "name": "stdout"
        }
      ]
    },
    {
      "cell_type": "markdown",
      "metadata": {
        "id": "JOWcmdTnyC9y"
      },
      "source": [
        "##附加檔案"
      ]
    },
    {
      "cell_type": "code",
      "metadata": {
        "id": "3LO-AhbWyCIa"
      },
      "source": [
        "a=open('a.txt','a')\n",
        "a.write('This is test 4\\n')\n",
        "a.close()"
      ],
      "execution_count": null,
      "outputs": []
    },
    {
      "cell_type": "code",
      "metadata": {
        "colab": {
          "base_uri": "https://localhost:8080/"
        },
        "id": "_c_JSaxkyVKx",
        "outputId": "37a2b646-747a-4976-ff41-1033cf5db5fb"
      },
      "source": [
        "a=open('a.txt','r')\n",
        "print(a.readlines())\n",
        "a.close()"
      ],
      "execution_count": null,
      "outputs": [
        {
          "output_type": "stream",
          "text": [
            "['This is a test1 This is a test2\\n', 'This is a test13\\n', 'This is test 4\\n']\n"
          ],
          "name": "stdout"
        }
      ]
    },
    {
      "cell_type": "markdown",
      "metadata": {
        "id": "Avg-x6weyfII"
      },
      "source": [
        "#比較a與r+的不同\n",
        "* a寫在檔案的結尾\n",
        "* r+寫在檔案的開頭"
      ]
    },
    {
      "cell_type": "code",
      "metadata": {
        "id": "4PXuH6gnyun4"
      },
      "source": [
        "a=open('a.txt','r+')\n",
        "a.write('This is a test 5\\n')\n",
        "a.close()"
      ],
      "execution_count": null,
      "outputs": []
    },
    {
      "cell_type": "code",
      "metadata": {
        "colab": {
          "base_uri": "https://localhost:8080/"
        },
        "id": "aMItmj6ky_aw",
        "outputId": "0c1c1d74-0e18-4b14-b3dc-b3e0cd708e65"
      },
      "source": [
        "a=open('a.txt','r+')\n",
        "print(a.readlines())\n",
        "a.close()"
      ],
      "execution_count": null,
      "outputs": [
        {
          "output_type": "stream",
          "text": [
            "['This is a test 5\\n', 'his is a test2\\n', 'This is a test13\\n', 'This is test 4\\n']\n"
          ],
          "name": "stdout"
        }
      ]
    },
    {
      "cell_type": "markdown",
      "metadata": {
        "id": "hzJkAsN401rY"
      },
      "source": [
        "##刪除檔案"
      ]
    },
    {
      "cell_type": "code",
      "metadata": {
        "colab": {
          "base_uri": "https://localhost:8080/"
        },
        "id": "RJGbDqXZ047o",
        "outputId": "f7f75884-c253-4146-9f3f-605154c63411"
      },
      "source": [
        "if os.path.isfile('a.txt'):\n",
        "  os.remove('a.txt')\n",
        "  print('刪除成功')\n",
        "else:\n",
        "  print('找不到檔案')\n",
        "print(os.path.isfile('a.txt'))"
      ],
      "execution_count": null,
      "outputs": [
        {
          "output_type": "stream",
          "text": [
            "刪除成功\n",
            "False\n"
          ],
          "name": "stdout"
        }
      ]
    },
    {
      "cell_type": "markdown",
      "metadata": {
        "id": "O5hy8bWi285b"
      },
      "source": [
        "##Chap7 錯誤處理\n",
        "try:  \n",
        "execept:  \n",
        "else:  \n",
        "finally:"
      ]
    },
    {
      "cell_type": "code",
      "metadata": {
        "id": "8ZHiAdNj1c22",
        "colab": {
          "base_uri": "https://localhost:8080/",
          "height": 199
        },
        "outputId": "ea10ca03-b2e9-40c0-9084-e1db16611029"
      },
      "source": [
        "a=10\n",
        "b=20\n",
        "if a<b:\n",
        "  print(n)"
      ],
      "execution_count": 2,
      "outputs": [
        {
          "output_type": "error",
          "ename": "NameError",
          "evalue": "ignored",
          "traceback": [
            "\u001b[0;31m---------------------------------------------------------------------------\u001b[0m",
            "\u001b[0;31mNameError\u001b[0m                                 Traceback (most recent call last)",
            "\u001b[0;32m<ipython-input-2-609ab5985554>\u001b[0m in \u001b[0;36m<module>\u001b[0;34m()\u001b[0m\n\u001b[1;32m      2\u001b[0m \u001b[0mb\u001b[0m\u001b[0;34m=\u001b[0m\u001b[0;36m20\u001b[0m\u001b[0;34m\u001b[0m\u001b[0;34m\u001b[0m\u001b[0m\n\u001b[1;32m      3\u001b[0m \u001b[0;32mif\u001b[0m \u001b[0ma\u001b[0m\u001b[0;34m<\u001b[0m\u001b[0mb\u001b[0m\u001b[0;34m:\u001b[0m\u001b[0;34m\u001b[0m\u001b[0;34m\u001b[0m\u001b[0m\n\u001b[0;32m----> 4\u001b[0;31m   \u001b[0mprint\u001b[0m\u001b[0;34m(\u001b[0m\u001b[0mn\u001b[0m\u001b[0;34m)\u001b[0m\u001b[0;34m\u001b[0m\u001b[0;34m\u001b[0m\u001b[0m\n\u001b[0m",
            "\u001b[0;31mNameError\u001b[0m: name 'n' is not defined"
          ]
        }
      ]
    },
    {
      "cell_type": "code",
      "metadata": {
        "colab": {
          "base_uri": "https://localhost:8080/"
        },
        "id": "rAC0O4H53aYY",
        "outputId": "77f2d400-2c1d-4d91-e5fb-cf222c630304"
      },
      "source": [
        "a=10\n",
        "b=20\n",
        "try:\n",
        "  if a<b:\n",
        "    print(n)\n",
        "except:\n",
        "  print('錯誤產生')"
      ],
      "execution_count": null,
      "outputs": [
        {
          "output_type": "stream",
          "text": [
            "錯誤產生\n"
          ],
          "name": "stdout"
        }
      ]
    },
    {
      "cell_type": "markdown",
      "metadata": {
        "id": "GfFalInU3txo"
      },
      "source": [
        "##指定錯誤類別處理"
      ]
    },
    {
      "cell_type": "code",
      "metadata": {
        "colab": {
          "base_uri": "https://localhost:8080/"
        },
        "id": "lYa8MND03tE_",
        "outputId": "90ec813b-28a0-41c1-c57c-dfb9b5520743"
      },
      "source": [
        "a=10\n",
        "b=20\n",
        "try:\n",
        "  if a<b:\n",
        "    print(n)\n",
        "except NameError as e:\n",
        "  print('錯誤產生,錯誤原因:',e)\n",
        "except ZeroDivisionError:\n",
        "  print('除以0錯誤')"
      ],
      "execution_count": null,
      "outputs": [
        {
          "output_type": "stream",
          "text": [
            "錯誤產生,錯誤原因: name 'n' is not defined\n"
          ],
          "name": "stdout"
        }
      ]
    },
    {
      "cell_type": "markdown",
      "metadata": {
        "id": "uLCTFEZh5YAK"
      },
      "source": [
        "##else\n",
        "沒有錯誤產生會執行的部分"
      ]
    },
    {
      "cell_type": "code",
      "metadata": {
        "colab": {
          "base_uri": "https://localhost:8080/"
        },
        "id": "di5Wjkoj6NGg",
        "outputId": "8ea02869-8429-40b2-cf89-08d7b7cacc6f"
      },
      "source": [
        "a=1\n",
        "b=20\n",
        "try:\n",
        "  if a<b: #改變比較條件，讓錯誤不發生\n",
        "    print(n)\n",
        "except:\n",
        "  print('錯誤發生')\n",
        "else:\n",
        "  print('沒有錯誤發生時回執行的部分')"
      ],
      "execution_count": null,
      "outputs": [
        {
          "output_type": "stream",
          "text": [
            "錯誤發生\n"
          ],
          "name": "stdout"
        }
      ]
    },
    {
      "cell_type": "code",
      "metadata": {
        "colab": {
          "base_uri": "https://localhost:8080/"
        },
        "id": "d6MkEARC6tUI",
        "outputId": "54bd99cd-18b3-4d02-9359-e008a27deba8"
      },
      "source": [
        "a=1\n",
        "b=20\n",
        "try:\n",
        "  if a<b: #改變比較條件，讓錯誤不發生\n",
        "    print(n)\n",
        "except:\n",
        "  print('錯誤發生')\n",
        "else:\n",
        "  print('沒有錯誤發生時回執行的部分')\n",
        "finally:\n",
        "  print('不管有沒有錯誤一定會執行的部分')"
      ],
      "execution_count": null,
      "outputs": [
        {
          "output_type": "stream",
          "text": [
            "錯誤發生\n",
            "不管有沒有錯誤一定會執行的部分\n"
          ],
          "name": "stdout"
        }
      ]
    }
  ]
}